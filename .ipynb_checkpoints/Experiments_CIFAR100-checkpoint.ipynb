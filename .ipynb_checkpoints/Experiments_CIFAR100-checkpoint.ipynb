{
 "cells": [
  {
   "cell_type": "markdown",
   "metadata": {},
   "source": [
    "## Hyperparameters"
   ]
  },
  {
   "cell_type": "code",
   "execution_count": null,
   "metadata": {
    "colab": {
     "autoexec": {
      "startup": false,
      "wait_interval": 0
     }
    },
    "colab_type": "code",
    "id": "AQSHPH9P0BNx"
   },
   "outputs": [],
   "source": [
    "# image size to downsample to\n",
    "downsampled_size = 9\n",
    "\n",
    "batch_size = 128\n",
    "\n",
    "# margin for triplet loss function\n",
    "margin = 1.\n",
    "\n",
    "n_epochs = 1200\n",
    "# log every x batches\n",
    "log_interval = 20\n",
    "\n",
    "# Convnet hyperparameters\n",
    "lr = 1e-3\n",
    "input_depth = 3\n",
    "layer1_stride = 1\n",
    "layer1_kernel_size = 8\n",
    "layer1_output_channels = 64\n",
    "layer1_padding = 0\n",
    "\n",
    "visualize_filter = True\n",
    "\n",
    "# Number of examples to visualize and see how the network embeds\n",
    "visualize_model_working = 0"
   ]
  },
  {
   "cell_type": "markdown",
   "metadata": {
    "colab_type": "text",
    "id": "TcZTFRnjCut3"
   },
   "source": [
    "## Dataset setup"
   ]
  },
  {
   "cell_type": "code",
   "execution_count": null,
   "metadata": {
    "colab": {
     "autoexec": {
      "startup": false,
      "wait_interval": 0
     }
    },
    "colab_type": "code",
    "id": "Dz2xh66UCut5"
   },
   "outputs": [],
   "source": [
    "from torchvision.datasets import CIFAR100\n",
    "from torchvision import transforms\n",
    "import utils\n",
    "from datasets import DownsampledCIFAR100\n",
    "import torch\n",
    "\n",
    "\n",
    "train_dataset = CIFAR100('./data/CIFAR100', train=True, download=True,\n",
    "                             transform=transforms.Compose([\n",
    "                                 transforms.ToTensor(),\n",
    "                             ]))\n",
    "test_dataset = CIFAR100('./data/CIFAR100', train=False, download=True,\n",
    "                            transform=transforms.Compose([\n",
    "                                transforms.ToTensor(),\n",
    "                            ]))\n",
    "\n",
    "downsampled_train_dataset = DownsampledCIFAR100(train_dataset, downsampled_size=downsampled_size)\n",
    "downsampled_test_dataset = DownsampledCIFAR100(test_dataset, downsampled_size=downsampled_size)\n",
    "\n",
    "cuda = torch.cuda.is_available()\n",
    "\n",
    "kwargs = {'num_workers': 1, 'pin_memory': True} if cuda else {}\n",
    "train_loader = torch.utils.data.DataLoader(downsampled_train_dataset, batch_size=batch_size, shuffle=True, **kwargs)\n",
    "test_loader = torch.utils.data.DataLoader(downsampled_test_dataset, batch_size=batch_size, shuffle=False, **kwargs)"
   ]
  },
  {
   "cell_type": "markdown",
   "metadata": {
    "colab_type": "text",
    "id": "TcZTFRnjCut3"
   },
   "source": [
    "## ConvNet setup"
   ]
  },
  {
   "cell_type": "code",
   "execution_count": null,
   "metadata": {
    "colab": {
     "autoexec": {
      "startup": false,
      "wait_interval": 0
     }
    },
    "colab_type": "code",
    "id": "Dz2xh66UCut5"
   },
   "outputs": [],
   "source": [
    "from torch.optim import lr_scheduler\n",
    "import torch.optim as optim\n",
    "from trainer import fit\n",
    "from networks import EmbeddingNet, TripletNet, OnlineTripletNet\n",
    "from losses import TripletLoss, OnlineTripletLoss\n",
    "from utils import AllTripletSelector,HardestNegativeTripletSelector, \\\n",
    "    RandomNegativeTripletSelector, SemihardNegativeTripletSelector\n",
    "\n",
    "embedding_net = EmbeddingNet(input_depth=input_depth,\n",
    "                             layer1_stride=layer1_stride,\n",
    "                             layer1_kernel_size=layer1_kernel_size,\n",
    "                             layer1_output_channels=layer1_output_channels,\n",
    "                             layer1_padding=layer1_padding)\n",
    "model = OnlineTripletNet(embedding_net)\n",
    "if cuda:\n",
    "    model.cuda()\n",
    "loss_fn = OnlineTripletLoss(margin, SemihardNegativeTripletSelector(margin))\n",
    "optimizer = optim.Adam(model.parameters(), lr=lr)\n",
    "\n",
    "# learning rate decay over epochs\n",
    "scheduler = lr_scheduler.StepLR(optimizer, 1000, gamma=0.1, last_epoch=-1)"
   ]
  },
  {
   "cell_type": "markdown",
   "metadata": {
    "colab_type": "text",
    "id": "TcZTFRnjCut3"
   },
   "source": [
    "## Train and test model"
   ]
  },
  {
   "cell_type": "code",
   "execution_count": null,
   "metadata": {},
   "outputs": [],
   "source": [
    "fit(train_loader, test_loader, model, loss_fn, optimizer, scheduler, n_epochs, cuda, log_interval, visualize_workings=visualize_model_working)"
   ]
  },
  {
   "cell_type": "markdown",
   "metadata": {
    "colab_type": "text",
    "id": "TcZTFRnjCut3"
   },
   "source": [
    "## Save filter visualization"
   ]
  },
  {
   "cell_type": "code",
   "execution_count": null,
   "metadata": {},
   "outputs": [],
   "source": [
    "if visualize_filter:\n",
    "    filename = \"visualization_unsupervised\"\n",
    "    # Reset\n",
    "    open(filename, 'w').close()\n",
    "\n",
    "    for filter in list(model.embedding_net.convnet.parameters())[0]:\n",
    "        filter = utils.normalize_01(filter)\n",
    "        utils.save_image_visualization(filter.detach().cpu().numpy(),\n",
    "                                       filename=filename)"
   ]
  },
  {
   "cell_type": "markdown",
   "metadata": {
    "colab_type": "text",
    "id": "TcZTFRnjCut3"
   },
   "source": [
    "## Save and visualize filters"
   ]
  },
  {
   "cell_type": "code",
   "execution_count": null,
   "metadata": {
    "colab_type": "text",
    "id": "TcZTFRnjCut3"
   },
   "outputs": [],
   "source": [
    "if visualize_filter:\n",
    "    utils.visualize_image_from_file(filename)"
   ]
  },
  {
   "cell_type": "code",
   "execution_count": null,
   "metadata": {},
   "outputs": [],
   "source": []
  }
 ],
 "metadata": {
  "accelerator": "GPU",
  "colab": {
   "default_view": {},
   "name": "Experiments_MNIST.ipynb",
   "provenance": [],
   "version": "0.3.2",
   "views": {}
  },
  "kernelspec": {
   "display_name": "Python 3",
   "language": "python",
   "name": "python3"
  },
  "language_info": {
   "codemirror_mode": {
    "name": "ipython",
    "version": 3
   },
   "file_extension": ".py",
   "mimetype": "text/x-python",
   "name": "python",
   "nbconvert_exporter": "python",
   "pygments_lexer": "ipython3",
   "version": "3.7.0"
  }
 },
 "nbformat": 4,
 "nbformat_minor": 2
}
