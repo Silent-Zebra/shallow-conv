{
 "cells": [
  {
   "cell_type": "markdown",
   "metadata": {},
   "source": [
    "This is the notebook for loading filters and testing on CIFAR10"
   ]
  },
  {
   "cell_type": "markdown",
   "metadata": {},
   "source": [
    "## Hyperparameters"
   ]
  },
  {
   "cell_type": "code",
   "execution_count": null,
   "metadata": {
    "colab": {
     "autoexec": {
      "startup": false,
      "wait_interval": 0
     }
    },
    "colab_type": "code",
    "id": "AQSHPH9P0BNx"
   },
   "outputs": [],
   "source": [
    "random_features = False\n",
    "load_supervised = False\n",
    "\n",
    "batch_size = 128\n",
    "\n",
    "n_epochs = 500\n",
    "# log every x batches\n",
    "log_interval = 20\n",
    "\n",
    "# Convnet hyperparameters\n",
    "lr = 1e-3\n",
    "input_depth = 3\n",
    "layer1_stride = 1\n",
    "layer1_kernel_size = 8\n",
    "layer1_output_channels = 64\n",
    "layer1_padding = 0\n",
    "\n",
    "# Number of examples to visualize and see how the network embeds\n",
    "visualize_model_working = 0"
   ]
  },
  {
   "cell_type": "markdown",
   "metadata": {
    "colab_type": "text",
    "id": "TcZTFRnjCut3"
   },
   "source": [
    "## Dataset setup"
   ]
  },
  {
   "cell_type": "code",
   "execution_count": null,
   "metadata": {
    "colab": {
     "autoexec": {
      "startup": false,
      "wait_interval": 0
     }
    },
    "colab_type": "code",
    "id": "Dz2xh66UCut5"
   },
   "outputs": [],
   "source": [
    "from torchvision.datasets import CIFAR10\n",
    "from torchvision import transforms\n",
    "import utils\n",
    "import torch\n",
    "import torch.nn as nn\n",
    "\n",
    "\n",
    "train_dataset = CIFAR10('./data/CIFAR10', train=True, download=True,\n",
    "                             transform=transforms.Compose([\n",
    "                                 transforms.RandomCrop(32, padding=4),\n",
    "                                 transforms.RandomHorizontalFlip(),\n",
    "                                 transforms.ToTensor(),\n",
    "                             ]))\n",
    "test_dataset = CIFAR10('./data/CIFAR10', train=False, download=True,\n",
    "                            transform=transforms.Compose([\n",
    "                                transforms.ToTensor(),\n",
    "                            ]))\n",
    "\n",
    "cuda = torch.cuda.is_available()\n",
    "\n",
    "kwargs = {'num_workers': 1, 'pin_memory': True} if cuda else {}\n",
    "train_loader = torch.utils.data.DataLoader(train_dataset, batch_size=batch_size, shuffle=True, **kwargs)\n",
    "test_loader = torch.utils.data.DataLoader(test_dataset, batch_size=batch_size, shuffle=False, **kwargs)"
   ]
  },
  {
   "cell_type": "markdown",
   "metadata": {
    "colab_type": "text",
    "id": "TcZTFRnjCut3"
   },
   "source": [
    "## ConvNet setup"
   ]
  },
  {
   "cell_type": "code",
   "execution_count": null,
   "metadata": {
    "colab": {
     "autoexec": {
      "startup": false,
      "wait_interval": 0
     }
    },
    "colab_type": "code",
    "id": "Dz2xh66UCut5"
   },
   "outputs": [],
   "source": [
    "from torch.optim import lr_scheduler\n",
    "import torch.optim as optim\n",
    "from trainer import fit, fit_classifier\n",
    "from networks import EmbeddingNet, TripletNet, OnlineTripletNet, ClassifierCNN\n",
    "\n",
    "\n",
    "inputs, classes = next(iter(train_loader))\n",
    "\n",
    "input_size = inputs.shape[2]\n",
    "output_size = 100\n",
    "\n",
    "model = ClassifierCNN(input_size=input_size, input_depth=input_depth,\n",
    "                        layer1_stride=layer1_stride,\n",
    "                        layer1_kernel_size=layer1_kernel_size,\n",
    "                        layer1_output_channels=layer1_output_channels,\n",
    "                        layer1_padding=layer1_padding,\n",
    "                        output_size=output_size)"
   ]
  },
  {
   "cell_type": "markdown",
   "metadata": {
    "colab_type": "text",
    "id": "TcZTFRnjCut3"
   },
   "source": [
    "## ConvNet setup - load and freeze top layer"
   ]
  },
  {
   "cell_type": "code",
   "execution_count": null,
   "metadata": {},
   "outputs": [],
   "source": [
    "# Load 1 conv layer\n",
    "if not random_features:\n",
    "    if load_supervised:\n",
    "        trained_model = torch.load(\"model_supervised.pt\", map_location=\"cpu\")\n",
    "        model.convnet[0].load_state_dict(trained_model.convnet[0].state_dict())\n",
    "    else:\n",
    "        model.convnet[0].load_state_dict(torch.load(\"model_unsupervised.pt\", map_location=\"cpu\"))\n",
    "\n",
    "# Freeze weights of that layer\n",
    "for param in model.convnet[0].parameters():\n",
    "    param.requires_grad = False\n",
    "\n",
    "if cuda:\n",
    "    model.cuda()\n",
    "loss_fn = nn.CrossEntropyLoss()\n",
    "optimizer = optim.Adam(model.parameters(), lr=lr)\n",
    "\n",
    "# learning rate decay over epochs\n",
    "scheduler = lr_scheduler.StepLR(optimizer, 500, gamma=0.1, last_epoch=-1)"
   ]
  },
  {
   "cell_type": "markdown",
   "metadata": {
    "colab_type": "text",
    "id": "TcZTFRnjCut3"
   },
   "source": [
    "## Train and test model"
   ]
  },
  {
   "cell_type": "code",
   "execution_count": null,
   "metadata": {},
   "outputs": [],
   "source": [
    "fit_classifier(train_loader, test_loader, model, loss_fn, optimizer, scheduler, n_epochs, cuda, log_interval, visualize_workings=visualize_model_working)"
   ]
  },
  {
   "cell_type": "code",
   "execution_count": null,
   "metadata": {},
   "outputs": [],
   "source": []
  }
 ],
 "metadata": {
  "accelerator": "GPU",
  "colab": {
   "default_view": {},
   "name": "Experiments_MNIST.ipynb",
   "provenance": [],
   "version": "0.3.2",
   "views": {}
  },
  "kernelspec": {
   "display_name": "Python 3",
   "language": "python",
   "name": "python3"
  },
  "language_info": {
   "codemirror_mode": {
    "name": "ipython",
    "version": 3
   },
   "file_extension": ".py",
   "mimetype": "text/x-python",
   "name": "python",
   "nbconvert_exporter": "python",
   "pygments_lexer": "ipython3",
   "version": "3.7.0"
  }
 },
 "nbformat": 4,
 "nbformat_minor": 2
}
